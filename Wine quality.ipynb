{
 "cells": [
  {
   "cell_type": "code",
   "execution_count": null,
   "id": "fc611fe7-8600-4d7f-97ac-289fb7113ac6",
   "metadata": {},
   "outputs": [],
   "source": [
    "# 🟡 Required Libraries\n",
    "import pandas as pd\n",
    "import numpy as np\n",
    "import matplotlib.pyplot as plt\n",
    "from sklearn.model_selection import train_test_split\n",
    "from sklearn.preprocessing import StandardScaler\n",
    "from sklearn.metrics import accuracy_score, f1_score, confusion_matrix, ConfusionMatrixDisplay\n",
    "\n",
    "# 🟡 Load Dataset\n",
    "red = pd.read_csv(r\"C:\\Users\\Dragon\\Downloads\\winequality-red.csv\", sep=';')\n",
    "white = pd.read_csv(r\"C:\\Users\\Dragon\\Downloads\\winequality-white.csv\", sep=';')\n",
    "red['type'] = 0\n",
    "white['type'] = 1\n",
    "df = pd.concat([red, white], ignore_index=True)\n",
    "\n",
    "# 🟡 Create Classes\n",
    "df['quality_label'] = df['quality'].apply(lambda q: 0 if q <= 5 else (1 if q == 6 else 2))\n",
    "df.drop('quality', axis=1, inplace=True)\n",
    "\n",
    "# 🟡 Feature Engineering (to make 21 features)\n",
    "df['acid_index'] = df['fixed acidity'] * df['volatile acidity']\n",
    "df['sweetness_level'] = df['residual sugar'] / (df['density'] + 1e-6)\n",
    "df['sulfur_ratio'] = df['free sulfur dioxide'] / (df['total sulfur dioxide'] + 1)\n",
    "df['ph_sulphate'] = df['pH'] * df['sulphates']\n",
    "df['alcohol_density'] = df['alcohol'] * df['density']\n",
    "df['sugar_sulphate_ratio'] = df['residual sugar'] / (df['sulphates'] + 1)\n",
    "df['chloride_acidity'] = df['chlorides'] * df['fixed acidity']\n",
    "df['total_acid'] = df['fixed acidity'] + df['citric acid'] + df['volatile acidity']\n",
    "df['sulfur_acid_ratio'] = df['total sulfur dioxide'] / (df['total_acid'] + 1e-6)\n",
    "df['density_alcohol_ratio'] = df['density'] / (df['alcohol'] + 1e-6)\n",
    "\n",
    "# 🟡 Split & Scale\n",
    "X = df.drop('quality_label', axis=1)\n",
    "y = df['quality_label']\n",
    "X_train, X_test, y_train, y_test = train_test_split(X, y, test_size=0.3, random_state=42, stratify=y)\n",
    "scaler = StandardScaler()\n",
    "X_train_scaled = scaler.fit_transform(X_train)\n",
    "X_test_scaled = scaler.transform(X_test)\n"
   ]
  },
  {
   "cell_type": "code",
   "execution_count": null,
   "id": "80535d5b-ffc4-4613-b115-66b8dd35511d",
   "metadata": {},
   "outputs": [],
   "source": [
    "from sklearn.linear_model import LogisticRegression\n",
    "\n",
    "model = LogisticRegression(max_iter=1000)\n",
    "model.fit(X_train_scaled, y_train)\n",
    "y_pred = model.predict(X_test_scaled)\n",
    "\n",
    "acc = accuracy_score(y_test, y_pred)\n",
    "f1 = f1_score(y_test, y_pred, average='weighted')\n",
    "\n",
    "print(\"Logistic Regression\")\n",
    "print(\"Accuracy:\", acc)\n",
    "print(\"F1 Score:\", f1)\n",
    "\n",
    "cm = confusion_matrix(y_test, y_pred)\n",
    "ConfusionMatrixDisplay(cm, display_labels=[0, 1, 2]).plot(cmap=\"Blues\")\n",
    "plt.title(\"Logistic Regression - Confusion Matrix\")\n",
    "plt.show()\n"
   ]
  },
  {
   "cell_type": "code",
   "execution_count": null,
   "id": "eed92ffa-5eae-4409-b0f6-c1ab8ebf5e4b",
   "metadata": {},
   "outputs": [],
   "source": [
    "from sklearn.neighbors import KNeighborsClassifier\n",
    "\n",
    "model = KNeighborsClassifier()\n",
    "model.fit(X_train_scaled, y_train)\n",
    "y_pred = model.predict(X_test_scaled)\n",
    "\n",
    "print(\"KNN Accuracy:\", accuracy_score(y_test, y_pred))\n",
    "print(\"KNN F1 Score:\", f1_score(y_test, y_pred, average='weighted'))\n",
    "\n",
    "ConfusionMatrixDisplay(confusion_matrix(y_test, y_pred), display_labels=[0, 1, 2]).plot(cmap='Blues')\n",
    "plt.title(\"KNN - Confusion Matrix\")\n",
    "plt.show()\n"
   ]
  },
  {
   "cell_type": "code",
   "execution_count": null,
   "id": "94052638-6530-424e-bcb5-cf458432d45e",
   "metadata": {},
   "outputs": [],
   "source": [
    "from sklearn.svm import SVC\n",
    "\n",
    "model = SVC()\n",
    "model.fit(X_train_scaled, y_train)\n",
    "y_pred = model.predict(X_test_scaled)\n",
    "\n",
    "print(\"SVM Accuracy:\", accuracy_score(y_test, y_pred))\n",
    "print(\"SVM F1 Score:\", f1_score(y_test, y_pred, average='weighted'))\n",
    "\n",
    "ConfusionMatrixDisplay(confusion_matrix(y_test, y_pred), display_labels=[0, 1, 2]).plot(cmap='Blues')\n",
    "plt.title(\"SVM - Confusion Matrix\")\n",
    "plt.show()\n"
   ]
  },
  {
   "cell_type": "code",
   "execution_count": null,
   "id": "ef602af5-e920-4400-9c7d-c5e38f206fff",
   "metadata": {},
   "outputs": [],
   "source": [
    "from sklearn.naive_bayes import GaussianNB\n",
    "\n",
    "model = GaussianNB()\n",
    "model.fit(X_train_scaled, y_train)\n",
    "y_pred = model.predict(X_test_scaled)\n",
    "\n",
    "print(\"Naive Bayes Accuracy:\", accuracy_score(y_test, y_pred))\n",
    "print(\"Naive Bayes F1 Score:\", f1_score(y_test, y_pred, average='weighted'))\n",
    "\n",
    "ConfusionMatrixDisplay(confusion_matrix(y_test, y_pred), display_labels=[0, 1, 2]).plot(cmap='Blues')\n",
    "plt.title(\"Naive Bayes - Confusion Matrix\")\n",
    "plt.show()\n"
   ]
  },
  {
   "cell_type": "code",
   "execution_count": null,
   "id": "9cba58ac-614a-480c-a936-9ff50e5163db",
   "metadata": {},
   "outputs": [],
   "source": [
    "from sklearn.tree import DecisionTreeClassifier\n",
    "\n",
    "model = DecisionTreeClassifier()\n",
    "model.fit(X_train_scaled, y_train)\n",
    "y_pred = model.predict(X_test_scaled)\n",
    "\n",
    "print(\"Decision Tree Accuracy:\", accuracy_score(y_test, y_pred))\n",
    "print(\"Decision Tree F1 Score:\", f1_score(y_test, y_pred, average='weighted'))\n",
    "\n",
    "ConfusionMatrixDisplay(confusion_matrix(y_test, y_pred), display_labels=[0, 1, 2]).plot(cmap='Blues')\n",
    "plt.title(\"Decision Tree - Confusion Matrix\")\n",
    "plt.show()\n"
   ]
  },
  {
   "cell_type": "code",
   "execution_count": null,
   "id": "0077cf30-ff8c-48d4-897e-9a409a6118e0",
   "metadata": {},
   "outputs": [],
   "source": [
    "from sklearn.ensemble import RandomForestClassifier\n",
    "\n",
    "model = RandomForestClassifier()\n",
    "model.fit(X_train_scaled, y_train)\n",
    "y_pred = model.predict(X_test_scaled)\n",
    "\n",
    "print(\"Random Forest Accuracy:\", accuracy_score(y_test, y_pred))\n",
    "print(\"Random Forest F1 Score:\", f1_score(y_test, y_pred, average='weighted'))\n",
    "\n",
    "ConfusionMatrixDisplay(confusion_matrix(y_test, y_pred), display_labels=[0, 1, 2]).plot(cmap='Blues')\n",
    "plt.title(\"Random Forest - Confusion Matrix\")\n",
    "plt.show()\n"
   ]
  },
  {
   "cell_type": "code",
   "execution_count": null,
   "id": "6f9c4530-bb90-49dd-987f-ee1dece6417e",
   "metadata": {},
   "outputs": [],
   "source": [
    "from sklearn.ensemble import GradientBoostingClassifier\n",
    "\n",
    "model = GradientBoostingClassifier()\n",
    "model.fit(X_train_scaled, y_train)\n",
    "y_pred = model.predict(X_test_scaled)\n",
    "\n",
    "print(\"Gradient Boosting Accuracy:\", accuracy_score(y_test, y_pred))\n",
    "print(\"Gradient Boosting F1 Score:\", f1_score(y_test, y_pred, average='weighted'))\n",
    "\n",
    "ConfusionMatrixDisplay(confusion_matrix(y_test, y_pred), display_labels=[0, 1, 2]).plot(cmap='Blues')\n",
    "plt.title(\"Gradient Boosting - Confusion Matrix\")\n",
    "plt.show()\n"
   ]
  },
  {
   "cell_type": "code",
   "execution_count": null,
   "id": "f6a9c67a-5ee5-40e2-9af1-24d233aecb83",
   "metadata": {},
   "outputs": [],
   "source": [
    "from sklearn.ensemble import AdaBoostClassifier\n",
    "\n",
    "model = AdaBoostClassifier()\n",
    "model.fit(X_train_scaled, y_train)\n",
    "y_pred = model.predict(X_test_scaled)\n",
    "\n",
    "print(\"AdaBoost Accuracy:\", accuracy_score(y_test, y_pred))\n",
    "print(\"AdaBoost F1 Score:\", f1_score(y_test, y_pred, average='weighted'))\n",
    "\n",
    "ConfusionMatrixDisplay(confusion_matrix(y_test, y_pred), display_labels=[0, 1, 2]).plot(cmap='Blues')\n",
    "plt.title(\"AdaBoost - Confusion Matrix\")\n",
    "plt.show()\n"
   ]
  },
  {
   "cell_type": "code",
   "execution_count": null,
   "id": "fae0d21f-ce4e-4324-ad18-bb802b22be54",
   "metadata": {},
   "outputs": [],
   "source": []
  },
  {
   "cell_type": "code",
   "execution_count": null,
   "id": "124e7b72-044a-40f4-b12e-66b25ed7109c",
   "metadata": {},
   "outputs": [],
   "source": []
  }
 ],
 "metadata": {
  "kernelspec": {
   "display_name": "Python [conda env:base] *",
   "language": "python",
   "name": "conda-base-py"
  },
  "language_info": {
   "codemirror_mode": {
    "name": "ipython",
    "version": 3
   },
   "file_extension": ".py",
   "mimetype": "text/x-python",
   "name": "python",
   "nbconvert_exporter": "python",
   "pygments_lexer": "ipython3",
   "version": "3.12.7"
  }
 },
 "nbformat": 4,
 "nbformat_minor": 5
}
